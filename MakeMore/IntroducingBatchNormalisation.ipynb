{
 "cells": [
  {
   "cell_type": "code",
   "execution_count": 1,
   "id": "378fd8df",
   "metadata": {},
   "outputs": [],
   "source": [
    "import torch\n",
    "import torch.nn.functional as F\n",
    "import matplotlib.pyplot as plt # for making figures\n",
    "%matplotlib inline"
   ]
  },
  {
   "cell_type": "code",
   "execution_count": 2,
   "id": "cec7bc3c",
   "metadata": {},
   "outputs": [
    {
     "data": {
      "text/plain": [
       "['emma', 'olivia', 'ava', 'isabella', 'sophia', 'charlotte', 'mia', 'amelia']"
      ]
     },
     "execution_count": 2,
     "metadata": {},
     "output_type": "execute_result"
    }
   ],
   "source": [
    "# read in all the words\n",
    "words = open('names.txt', 'r').read().splitlines()\n",
    "words[:8]"
   ]
  },
  {
   "cell_type": "code",
   "execution_count": 3,
   "id": "f3bdaadf",
   "metadata": {},
   "outputs": [
    {
     "name": "stdout",
     "output_type": "stream",
     "text": [
      "{1: 'a', 2: 'b', 3: 'c', 4: 'd', 5: 'e', 6: 'f', 7: 'g', 8: 'h', 9: 'i', 10: 'j', 11: 'k', 12: 'l', 13: 'm', 14: 'n', 15: 'o', 16: 'p', 17: 'q', 18: 'r', 19: 's', 20: 't', 21: 'u', 22: 'v', 23: 'w', 24: 'x', 25: 'y', 26: 'z', 0: '.'}\n",
      "27\n"
     ]
    }
   ],
   "source": [
    "# build the vocabulary of characters and mappings to/from integers\n",
    "chars = sorted(list(set(''.join(words))))\n",
    "stoi = {s:i+1 for i,s in enumerate(chars)}\n",
    "stoi['.'] = 0\n",
    "itos = {i:s for s,i in stoi.items()}\n",
    "vocab_size = len(itos)\n",
    "print(itos)\n",
    "print(vocab_size)"
   ]
  },
  {
   "cell_type": "code",
   "execution_count": 4,
   "id": "577a38e1",
   "metadata": {},
   "outputs": [
    {
     "name": "stdout",
     "output_type": "stream",
     "text": [
      "torch.Size([182625, 3]) torch.Size([182625])\n",
      "torch.Size([22655, 3]) torch.Size([22655])\n",
      "torch.Size([22866, 3]) torch.Size([22866])\n"
     ]
    }
   ],
   "source": [
    "# build the dataset\n",
    "block_size = 3 # context length: how many characters do we take to predict the next one?\n",
    "\n",
    "def build_dataset(words):\n",
    "  X, Y = [], []\n",
    "\n",
    "  for w in words:\n",
    "    context = [0] * block_size\n",
    "    for ch in w + '.':\n",
    "      ix = stoi[ch]\n",
    "      X.append(context)\n",
    "      Y.append(ix)\n",
    "      context = context[1:] + [ix] # crop and append\n",
    "\n",
    "  X = torch.tensor(X)\n",
    "  Y = torch.tensor(Y)\n",
    "  print(X.shape, Y.shape)\n",
    "  return X, Y\n",
    "\n",
    "import random\n",
    "random.seed(42)\n",
    "random.shuffle(words)\n",
    "n1 = int(0.8*len(words))\n",
    "n2 = int(0.9*len(words))\n",
    "\n",
    "Xtr,  Ytr  = build_dataset(words[:n1])     # 80%\n",
    "Xdev, Ydev = build_dataset(words[n1:n2])   # 10%\n",
    "Xte,  Yte  = build_dataset(words[n2:])     # 10%"
   ]
  },
  {
   "cell_type": "code",
   "execution_count": 157,
   "id": "437d4636",
   "metadata": {},
   "outputs": [
    {
     "name": "stdout",
     "output_type": "stream",
     "text": [
      "12097\n"
     ]
    }
   ],
   "source": [
    "# MLP revisited\n",
    "n_embd = 10 # the dimensionality of the character embedding vectors\n",
    "n_hidden = 200 # the number of neurons in the hidden layer of the MLP\n",
    "\n",
    "g = torch.Generator().manual_seed(2147483647) # for reproducibility\n",
    "C  = torch.randn((vocab_size, n_embd),            generator=g)\n",
    "W1 = torch.randn((n_embd * block_size, n_hidden), generator=g) * (5/3) /  ((n_embd * block_size)**0.5)   #.2\n",
    "# b1 = torch.randn(n_hidden,                        generator=g) * 0.01\n",
    "W2 = torch.randn((n_hidden, vocab_size),          generator=g) * 0.01 \n",
    "# little entropy to break symmetry W2\n",
    "b2 = torch.randn(vocab_size,                      generator=g) * 0 # we dont need bias to have some effect during intialization\n",
    "\n",
    "# BatchNorm parameters\n",
    "bngain = torch.ones((1, n_hidden))\n",
    "bnbias = torch.zeros((1, n_hidden))\n",
    "bnmean_running = torch.zeros((1, n_hidden))\n",
    "bnstd_running = torch.ones((1, n_hidden))\n",
    "\n",
    "parameters = [C, W1, W2, b2, bngain, bnbias]\n",
    "print(sum(p.nelement() for p in parameters)) # number of parameters in total\n",
    "for p in parameters:\n",
    "  p.requires_grad = True"
   ]
  },
  {
   "cell_type": "code",
   "execution_count": 158,
   "id": "4af18195",
   "metadata": {},
   "outputs": [
    {
     "data": {
      "text/plain": [
       "torch.Size([1, 200])"
      ]
     },
     "execution_count": 158,
     "metadata": {},
     "output_type": "execute_result"
    }
   ],
   "source": [
    "hpreact.mean(0, keepdim=True).shape"
   ]
  },
  {
   "cell_type": "code",
   "execution_count": 159,
   "id": "7e9efad9",
   "metadata": {},
   "outputs": [
    {
     "data": {
      "text/plain": [
       "torch.Size([1, 200])"
      ]
     },
     "execution_count": 159,
     "metadata": {},
     "output_type": "execute_result"
    }
   ],
   "source": [
    "hpreact.std(0, keepdim=True).shape"
   ]
  },
  {
   "cell_type": "code",
   "execution_count": null,
   "id": "9654b7f4",
   "metadata": {},
   "outputs": [
    {
     "name": "stdout",
     "output_type": "stream",
     "text": [
      "      0/ 200000: 3.3239\n",
      "  10000/ 200000: 2.0322\n",
      "  20000/ 200000: 2.5675\n",
      "  30000/ 200000: 2.0125\n",
      "  40000/ 200000: 2.2446\n",
      "  50000/ 200000: 1.8897\n",
      "  60000/ 200000: 2.0785\n",
      "  70000/ 200000: 2.3681\n",
      "  80000/ 200000: 2.2918\n",
      "  90000/ 200000: 2.0238\n",
      " 100000/ 200000: 2.3673\n",
      " 110000/ 200000: 2.3132\n",
      " 120000/ 200000: 1.6414\n",
      " 130000/ 200000: 1.9311\n",
      " 140000/ 200000: 2.2231\n",
      " 150000/ 200000: 2.0027\n",
      " 160000/ 200000: 2.0997\n",
      " 170000/ 200000: 2.4949\n",
      " 180000/ 200000: 2.0199\n",
      " 190000/ 200000: 2.1707\n"
     ]
    }
   ],
   "source": [
    " # same optimization as last time\n",
    "max_steps = 200000\n",
    "batch_size = 32\n",
    "lossi = []\n",
    "\n",
    "for i in range(max_steps):\n",
    "\n",
    "  # Mini batches\n",
    "    ix = torch.randint(0, Xtr.shape[0], (batch_size,), generator=g) # random batch of indices\n",
    "    Xb, Yb = Xtr[ix], Ytr[ix] # fetch the batch from the dataset\n",
    "\n",
    "    #  forward pass\n",
    "    emb = C[Xb] # embed the character vectors\n",
    "    # print(emb.shape[0])\n",
    "    embcat = emb.view(emb.shape[0], -1) # concatenate the embedding vectors\n",
    "    # BatchNorm layer\n",
    "    # -------------------------------------------------------------\n",
    "    hpreact = embcat @ W1 #+ b1 # hidden layer pre-activation # b1 is not used batchnorm has its own bias\n",
    "    bnmeani = hpreact.mean(0, keepdim=True) # batch mean\n",
    "    bnstdi = hpreact.std(0, keepdim=True) # batch std\n",
    "    hpreact = bngain * (hpreact - bnmeani) / bnstdi + bnbias\n",
    "\n",
    "    with torch.no_grad():\n",
    "        # clamping the two stages i.e., calibrating the running mean and std explicitly\n",
    "        bnmean_running = 0.999 * bnmean_running + 0.001 * bnmeani\n",
    "        bnstd_running = 0.999 * bnstd_running + 0.001 * bnstdi\n",
    "    \n",
    "    # -------------------------------------------------------------\n",
    "    # Non-linearity\n",
    "    h = torch.tanh(hpreact) # 32 100\n",
    "    logits = h @ W2 + b2\n",
    "    loss = F.cross_entropy(logits, Yb) # cross-entropy loss\n",
    "\n",
    "  # backward pass\n",
    "    for p in parameters:\n",
    "        p.grad = None\n",
    "    loss.backward()\n",
    "\n",
    "  # update\n",
    "    lr = 0.1 if i < 100000 else 0.01 # step learning rate decay\n",
    "    for p in parameters:\n",
    "        p.data += -lr * p.grad\n",
    "\n",
    "  # track stats\n",
    "    if i % 10000 == 0: # print every once in a while\n",
    "        print(f'{i:7d}/{max_steps:7d}: {loss.item():.4f}')\n",
    "    lossi.append(loss.log10().item())\n",
    "\n",
    "    # break\n"
   ]
  },
  {
   "cell_type": "code",
   "execution_count": 142,
   "id": "2ec3ecd5",
   "metadata": {},
   "outputs": [
    {
     "data": {
      "text/plain": [
       "tensor([[-2.3355,  0.6776, -0.9133,  1.0163,  1.0865,  1.0938,  1.7437, -2.1208,\n",
       "          0.5730,  1.4455, -1.6343, -2.7372, -0.4752, -0.1412, -0.0745, -1.1722,\n",
       "          0.6851, -2.6219, -0.1065,  1.6326, -0.7706, -0.3063,  0.0479,  0.6115,\n",
       "          1.1173,  0.2427,  2.0500,  0.5831,  0.8527,  1.7680, -0.3625, -0.8355,\n",
       "         -0.0854, -0.5177, -0.3806, -1.0699, -0.0786,  0.3487, -0.5808,  0.9875,\n",
       "         -0.4427, -1.3082, -0.2871, -0.2332,  0.6850,  0.6850,  2.0857, -0.7608,\n",
       "          2.3866,  1.8734,  0.8259,  0.2803,  1.8897,  0.4709,  0.6739, -1.8940,\n",
       "         -0.0401,  0.4338,  1.3760, -0.8910, -0.4524,  1.1754,  0.5613,  0.6051,\n",
       "          1.5859,  1.2261, -1.0111,  2.1495, -0.6392,  0.0938, -0.2864, -0.4856,\n",
       "          0.9632, -1.0461, -2.9990,  0.6391,  1.4327, -0.1590,  0.0941,  0.5253,\n",
       "          0.2508,  1.2521,  2.0388,  0.6608,  0.0691, -0.0813, -1.6724,  0.2933,\n",
       "          2.2423, -0.0210, -0.6666,  1.4253, -0.8412, -1.2248, -1.0129,  0.2230,\n",
       "          0.2112, -0.3226,  0.1141, -0.6350,  0.1848,  0.1165, -1.3947,  0.2343,\n",
       "          0.2170, -0.3493, -0.3409, -0.1918,  0.9244, -0.8073,  0.7147,  0.2383,\n",
       "          0.3964,  1.2354,  2.8623,  2.0470,  0.8419,  0.8480,  0.3483, -0.3153,\n",
       "         -1.0647, -1.4465,  0.3518,  1.1174, -1.1265,  0.0688, -0.2204, -0.4964,\n",
       "         -0.8558, -1.0849,  2.8098, -1.2866,  0.6543,  1.8674,  0.9511,  1.0606,\n",
       "         -0.7020,  1.8505,  0.1528,  0.4583,  1.6235, -0.1899,  1.9335,  0.2938,\n",
       "          0.4391,  0.2065,  1.1369, -0.6884,  0.1559,  0.5905, -1.5956, -0.2324,\n",
       "          1.7724,  1.2664,  0.9916, -0.4957,  1.4023, -1.6664,  0.0178,  0.4224,\n",
       "          0.5857, -0.4225,  0.9377, -1.1793, -0.4486, -0.7184, -0.3307, -0.4207,\n",
       "         -2.1519, -0.1099,  1.1733, -2.1530,  0.1215, -0.8929, -0.9959,  0.9028,\n",
       "          1.3427, -0.7526,  1.3065, -1.5016,  1.8439,  0.9704,  0.8244, -0.7247,\n",
       "          0.3621,  0.0769, -0.9657,  0.1345,  1.8784,  0.9191, -0.5020,  1.6438,\n",
       "         -0.7394,  0.2081,  0.1425,  1.2711,  1.8083, -0.8162,  0.2586,  1.2403]])"
      ]
     },
     "execution_count": 142,
     "metadata": {},
     "output_type": "execute_result"
    }
   ],
   "source": [
    "bnmean"
   ]
  },
  {
   "cell_type": "code",
   "execution_count": 140,
   "id": "8f78300c",
   "metadata": {},
   "outputs": [
    {
     "data": {
      "text/plain": [
       "tensor([[-2.3539,  0.6872, -0.9000,  1.0159,  1.0894,  1.0862,  1.7389, -2.1356,\n",
       "          0.5608,  1.4246, -1.6445, -2.7426, -0.4861, -0.1510, -0.0687, -1.1550,\n",
       "          0.6891, -2.6399, -0.1283,  1.6240, -0.7732, -0.2864,  0.0467,  0.6119,\n",
       "          1.1172,  0.2433,  2.0542,  0.5778,  0.8515,  1.7729, -0.3741, -0.8385,\n",
       "         -0.0831, -0.5198, -0.3817, -1.0699, -0.0781,  0.3370, -0.5769,  0.9935,\n",
       "         -0.4507, -1.3313, -0.2895, -0.2298,  0.6877,  0.6936,  2.0835, -0.7759,\n",
       "          2.3804,  1.8614,  0.8118,  0.2735,  1.8802,  0.4705,  0.6656, -1.8962,\n",
       "         -0.0420,  0.4356,  1.3924, -0.8906, -0.4676,  1.1688,  0.5539,  0.6001,\n",
       "          1.5853,  1.2103, -1.0171,  2.1422, -0.6330,  0.1071, -0.2926, -0.4831,\n",
       "          0.9506, -1.0144, -2.9925,  0.6269,  1.4404, -0.1574,  0.0955,  0.5159,\n",
       "          0.2487,  1.2401,  2.0104,  0.6695,  0.0768, -0.0851, -1.6768,  0.2963,\n",
       "          2.2374, -0.0100, -0.6669,  1.4356, -0.8431, -1.2317, -1.0220,  0.2201,\n",
       "          0.1928, -0.3261,  0.1108, -0.6206,  0.1795,  0.1089, -1.4007,  0.2215,\n",
       "          0.2301, -0.3369, -0.3340, -0.1849,  0.9342, -0.8288,  0.7119,  0.2475,\n",
       "          0.3813,  1.2447,  2.8427,  2.0338,  0.8295,  0.8458,  0.3483, -0.3078,\n",
       "         -1.0773, -1.4394,  0.3424,  1.1274, -1.1252,  0.0692, -0.2308, -0.4936,\n",
       "         -0.8471, -1.0785,  2.8080, -1.2823,  0.6541,  1.8701,  0.9662,  1.0696,\n",
       "         -0.7051,  1.8326,  0.1624,  0.4782,  1.6376, -0.1962,  1.9364,  0.2986,\n",
       "          0.4300,  0.2062,  1.1390, -0.6907,  0.1571,  0.5883, -1.5947, -0.2230,\n",
       "          1.7796,  1.2689,  0.9813, -0.4950,  1.4052, -1.6645,  0.0249,  0.4152,\n",
       "          0.5742, -0.4044,  0.9335, -1.1684, -0.4574, -0.7229, -0.3192, -0.4214,\n",
       "         -2.1397, -0.1036,  1.1620, -2.1602,  0.1196, -0.8846, -0.9970,  0.9115,\n",
       "          1.3361, -0.7411,  1.2991, -1.5061,  1.8279,  0.9732,  0.8192, -0.7259,\n",
       "          0.3556,  0.0714, -0.9718,  0.1299,  1.8912,  0.9107, -0.4950,  1.6493,\n",
       "         -0.7601,  0.2008,  0.1606,  1.2586,  1.8110, -0.8021,  0.2453,  1.2369]])"
      ]
     },
     "execution_count": 140,
     "metadata": {},
     "output_type": "execute_result"
    }
   ],
   "source": [
    "bnmean_running"
   ]
  },
  {
   "cell_type": "code",
   "execution_count": 130,
   "id": "c13370d0",
   "metadata": {},
   "outputs": [
    {
     "data": {
      "text/plain": [
       "<matplotlib.image.AxesImage at 0x16d6c73a0>"
      ]
     },
     "execution_count": 130,
     "metadata": {},
     "output_type": "execute_result"
    },
    {
     "data": {
      "image/png": "[encoded data removed]",
      "text/plain": [
       "<Figure size 2000x1000 with 1 Axes>"
      ]
     },
     "metadata": {},
     "output_type": "display_data"
    }
   ],
   "source": [
    "plt.figure(figsize=(20, 10))\n",
    "plt.imshow(h.abs() > 0.99, cmap=\"gray\", interpolation=\"nearest\")"
   ]
  },
  {
   "cell_type": "code",
   "execution_count": 131,
   "id": "d2510df3",
   "metadata": {},
   "outputs": [
    {
     "data": {
      "image/png": "[encoded data removed]",
      "text/plain": [
       "<Figure size 640x480 with 1 Axes>"
      ]
     },
     "metadata": {},
     "output_type": "display_data"
    }
   ],
   "source": [
    "plt.hist(h.view(-1).tolist(), bins=50);\n",
    "# If the activaiton after tanh has 1 or -1 they wont be able to lear from backpropagation,\n",
    "# as the gradient will be 0. and if the gradient is 0, the weights wont be updated.\n",
    "# This is a problem of vanishing gradients, and it can be solved with batch normalization.\n",
    "# If the activaiton after tanh is 0 during backpropagation, the gradient will be 1, and the weights will be updated."
   ]
  },
  {
   "cell_type": "code",
   "execution_count": 132,
   "id": "20c6e991",
   "metadata": {},
   "outputs": [
    {
     "data": {
      "image/png": "[encoded data removed]",
      "text/plain": [
       "<Figure size 640x480 with 1 Axes>"
      ]
     },
     "metadata": {},
     "output_type": "display_data"
    }
   ],
   "source": [
    "plt.hist(hpreact.view(-1).tolist(), bins=50);\n",
    "# the hpreact is two large and the tanh is saturated i.e, the hpreact values once goes through tanh,\n",
    "# it becomes 1 or -1. This is not good for the training."
   ]
  },
  {
   "cell_type": "code",
   "execution_count": null,
   "id": "2381355f",
   "metadata": {},
   "outputs": [],
   "source": [
    "# calibrate the batch norm parameters\n",
    "\n",
    "with torch.no_grad():\n",
    "    emb = C[Xtr] # embed the character vectors\n",
    "    embcat = emb.view(emb.shape[0], -1) # concatenate the embedding vectors\n",
    "    hpreact = embcat @ W1 + b1 # hidden layer pre-activation\n",
    "    bnmean = hpreact.mean(0, keepdim=True) # over entire dataset\n",
    "    bnstd = hpreact.std(0, keepdim=True)\n",
    "\n",
    "\n",
    "# No one wants to calculate this explicitly, so we can use the running mean and std"
   ]
  },
  {
   "cell_type": "code",
   "execution_count": 143,
   "id": "cd793956",
   "metadata": {},
   "outputs": [
    {
     "name": "stdout",
     "output_type": "stream",
     "text": [
      "train 2.06659197807312\n",
      "val 2.1050572395324707\n"
     ]
    }
   ],
   "source": [
    "@torch.no_grad() # this decorator disables gradient tracking\n",
    "def split_loss(split):\n",
    "  x,y = {\n",
    "    'train': (Xtr, Ytr),\n",
    "    'val': (Xdev, Ydev),\n",
    "    'test': (Xte, Yte),\n",
    "  }[split]\n",
    "  emb = C[x] # (N, block_size, n_embd)\n",
    "  embcat = emb.view(emb.shape[0], -1) # concat into (N, block_size * n_embd)\n",
    "  hpreact = embcat @ W1 + b1\n",
    "  hpreact = bngain * (hpreact - bnmean_running) / bnstd_running + bnbias\n",
    "  h = torch.tanh(hpreact) # (N, n_hidden)\n",
    "  logits = h @ W2 + b2 # (N, vocab_size)\n",
    "  loss = F.cross_entropy(logits, y)\n",
    "  print(split, loss.item())\n",
    "\n",
    "split_loss('train')\n",
    "split_loss('val')"
   ]
  },
  {
   "cell_type": "markdown",
   "id": "58808001",
   "metadata": {},
   "source": [
    "\n",
    "\n",
    "\n",
    "Show in Settings Editor"
   ]
  },
  {
   "cell_type": "code",
   "execution_count": 10,
   "id": "69675bc0",
   "metadata": {},
   "outputs": [
    {
     "data": {
      "text/plain": [
       "[<matplotlib.lines.Line2D at 0x13c4e6620>]"
      ]
     },
     "execution_count": 10,
     "metadata": {},
     "output_type": "execute_result"
    },
    {
     "data": {
      "image/png": "[encoded data removed]",
      "text/plain": [
       "<Figure size 640x480 with 1 Axes>"
      ]
     },
     "metadata": {},
     "output_type": "display_data"
    }
   ],
   "source": [
    "plt.plot(lossi)"
   ]
  },
  {
   "cell_type": "code",
   "execution_count": null,
   "id": "d8999d4a",
   "metadata": {},
   "outputs": [],
   "source": [
    "# at intializtion the prob for any character without any context is 1/27\n",
    "-torch.tensor(1/27.0).log()"
   ]
  },
  {
   "cell_type": "code",
   "execution_count": 31,
   "id": "5a9c5b86",
   "metadata": {},
   "outputs": [
    {
     "data": {
      "text/plain": [
       "(tensor([0.2500, 0.2500, 0.2500, 0.2500]),\n",
       " tensor([1.3863, 1.3863, 1.3863, 1.3863]))"
      ]
     },
     "execution_count": 31,
     "metadata": {},
     "output_type": "execute_result"
    }
   ],
   "source": [
    "# 4 dimensional example\n",
    "logits = torch.tensor([5.0, 5.0, 5.0, 5.0])\n",
    "# logis = torch.rand(4) * 10\n",
    "probs = torch.softmax(logits, dim=0)\n",
    "loss = -probs.log()\n",
    "probs, loss"
   ]
  },
  {
   "cell_type": "code",
   "execution_count": null,
   "id": "14ea81d7",
   "metadata": {},
   "outputs": [],
   "source": []
  },
  {
   "cell_type": "code",
   "execution_count": null,
   "id": "4d765e5a",
   "metadata": {},
   "outputs": [],
   "source": []
  },
  {
   "cell_type": "code",
   "execution_count": null,
   "id": "04887a13",
   "metadata": {},
   "outputs": [],
   "source": []
  }
 ],
 "metadata": {
  "kernelspec": {
   "display_name": "LLM",
   "language": "python",
   "name": "python3"
  },
  "language_info": {
   "codemirror_mode": {
    "name": "ipython",
    "version": 3
   },
   "file_extension": ".py",
   "mimetype": "text/x-python",
   "name": "python",
   "nbconvert_exporter": "python",
   "pygments_lexer": "ipython3",
   "version": "3.10.16"
  }
 },
 "nbformat": 4,
 "nbformat_minor": 5
}
