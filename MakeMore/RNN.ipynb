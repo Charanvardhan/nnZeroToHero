{
 "cells": [
  {
   "cell_type": "code",
   "execution_count": 11,
   "id": "544f763f",
   "metadata": {},
   "outputs": [],
   "source": [
    "import torch\n",
    "import torch.nn.functional as F\n",
    "import matplotlib.pyplot as plt # for making figures\n",
    "%matplotlib inline"
   ]
  },
  {
   "cell_type": "code",
   "execution_count": 12,
   "id": "e8842a2d",
   "metadata": {},
   "outputs": [
    {
     "name": "stdout",
     "output_type": "stream",
     "text": [
      "32033\n",
      "15\n",
      "['emma', 'olivia', 'ava', 'isabella', 'sophia', 'charlotte', 'mia', 'amelia']\n"
     ]
    }
   ],
   "source": [
    "# read in all the words\n",
    "words = open('names.txt', 'r').read().splitlines()\n",
    "print(len(words))\n",
    "print(max(len(w) for w in words))\n",
    "print(words[:8])"
   ]
  },
  {
   "cell_type": "code",
   "execution_count": 13,
   "id": "632f5c1e",
   "metadata": {},
   "outputs": [
    {
     "name": "stdout",
     "output_type": "stream",
     "text": [
      "{1: 'a', 2: 'b', 3: 'c', 4: 'd', 5: 'e', 6: 'f', 7: 'g', 8: 'h', 9: 'i', 10: 'j', 11: 'k', 12: 'l', 13: 'm', 14: 'n', 15: 'o', 16: 'p', 17: 'q', 18: 'r', 19: 's', 20: 't', 21: 'u', 22: 'v', 23: 'w', 24: 'x', 25: 'y', 26: 'z', 0: '.'}\n",
      "27\n"
     ]
    }
   ],
   "source": [
    "# build the vocabulary of characters and mappings to/from integers\n",
    "chars = sorted(list(set(''.join(words))))\n",
    "stoi = {s:i+1 for i,s in enumerate(chars)}\n",
    "stoi['.'] = 0\n",
    "itos = {i:s for s,i in stoi.items()}\n",
    "vocab_size = len(itos)\n",
    "print(itos)\n",
    "print(vocab_size)"
   ]
  },
  {
   "cell_type": "code",
   "execution_count": 14,
   "id": "128a0a32",
   "metadata": {},
   "outputs": [],
   "source": [
    "# shuffle up the words\n",
    "import random\n",
    "random.seed(42)\n",
    "random.shuffle(words)"
   ]
  },
  {
   "cell_type": "code",
   "execution_count": 15,
   "id": "2250f47f",
   "metadata": {},
   "outputs": [
    {
     "name": "stdout",
     "output_type": "stream",
     "text": [
      "torch.Size([182625, 8]) torch.Size([182625])\n",
      "torch.Size([22655, 8]) torch.Size([22655])\n",
      "torch.Size([22866, 8]) torch.Size([22866])\n"
     ]
    }
   ],
   "source": [
    "# build the dataset\n",
    "block_size = 8 # context length: how many characters do we take to predict the next one?\n",
    "\n",
    "def build_dataset(words):  \n",
    "  X, Y = [], []\n",
    "  \n",
    "  for w in words:\n",
    "    context = [0] * block_size\n",
    "    for ch in w + '.':\n",
    "      ix = stoi[ch]\n",
    "      X.append(context)\n",
    "      Y.append(ix)\n",
    "      context = context[1:] + [ix] # crop and append\n",
    "\n",
    "  X = torch.tensor(X)\n",
    "  Y = torch.tensor(Y)\n",
    "  print(X.shape, Y.shape)\n",
    "  return X, Y\n",
    "\n",
    "n1 = int(0.8*len(words))\n",
    "n2 = int(0.9*len(words))\n",
    "Xtr,  Ytr  = build_dataset(words[:n1])     # 80%\n",
    "Xdev, Ydev = build_dataset(words[n1:n2])   # 10%\n",
    "Xte,  Yte  = build_dataset(words[n2:])     # 10%"
   ]
  },
  {
   "cell_type": "code",
   "execution_count": 16,
   "id": "ab3a8221",
   "metadata": {},
   "outputs": [
    {
     "name": "stdout",
     "output_type": "stream",
     "text": [
      "........ --> y\n",
      ".......y --> u\n",
      "......yu --> h\n",
      ".....yuh --> e\n",
      "....yuhe --> n\n",
      "...yuhen --> g\n",
      "..yuheng --> .\n",
      "........ --> d\n",
      ".......d --> i\n",
      "......di --> o\n",
      ".....dio --> n\n",
      "....dion --> d\n",
      "...diond --> r\n",
      "..diondr --> e\n",
      ".diondre --> .\n",
      "........ --> x\n",
      ".......x --> a\n",
      "......xa --> v\n",
      ".....xav --> i\n",
      "....xavi --> e\n"
     ]
    }
   ],
   "source": [
    "for x,y in zip(Xtr[:20], Ytr[:20]):\n",
    "  print(''.join(itos[ix.item()] for ix in x), '-->', itos[y.item()])"
   ]
  },
  {
   "cell_type": "code",
   "execution_count": 90,
   "id": "4cf7e871",
   "metadata": {},
   "outputs": [],
   "source": [
    "# Near copy paste of the layers we have developed in Part 3\n",
    "\n",
    "# -----------------------------------------------------------------------------------------------\n",
    "class Linear:\n",
    "  \n",
    "  def __init__(self, fan_in, fan_out, bias=True):\n",
    "    self.weight = torch.randn((fan_in, fan_out)) / fan_in**0.5 # note: kaiming init\n",
    "    self.bias = torch.zeros(fan_out) if bias else None\n",
    "  \n",
    "  def __call__(self, x):\n",
    "    self.out = x @ self.weight\n",
    "    if self.bias is not None:\n",
    "      self.out += self.bias\n",
    "    return self.out\n",
    "  \n",
    "  def parameters(self):\n",
    "    return [self.weight] + ([] if self.bias is None else [self.bias])\n",
    "\n",
    "# -----------------------------------------------------------------------------------------------\n",
    "class BatchNorm1d:\n",
    "  \n",
    "  def __init__(self, dim, eps=1e-5, momentum=0.1):\n",
    "    self.eps = eps\n",
    "    self.momentum = momentum\n",
    "    self.training = True\n",
    "    # parameters (trained with backprop)\n",
    "    self.gamma = torch.ones(dim)\n",
    "    self.beta = torch.zeros(dim)\n",
    "    # buffers (trained with a running 'momentum update')\n",
    "    self.running_mean = torch.zeros(dim)\n",
    "    self.running_var = torch.ones(dim)\n",
    "  \n",
    "  def __call__(self, x):\n",
    "    # calculate the forward pass\n",
    "    if self.training:\n",
    "      if x.ndim == 2:\n",
    "        dim = 0\n",
    "      if x.ndim ==3:\n",
    "        dim = (0,1)\n",
    "      xmean = x.mean(dim, keepdim=True) # batch mean\n",
    "      xvar = x.var(dim, keepdim=True) # batch variance\n",
    "    else:\n",
    "      xmean = self.running_mean\n",
    "      xvar = self.running_var\n",
    "    xhat = (x - xmean) / torch.sqrt(xvar + self.eps) # normalize to unit variance\n",
    "    self.out = self.gamma * xhat + self.beta\n",
    "    # update the buffers\n",
    "    if self.training:\n",
    "      with torch.no_grad():\n",
    "        self.running_mean = (1 - self.momentum) * self.running_mean + self.momentum * xmean\n",
    "        self.running_var = (1 - self.momentum) * self.running_var + self.momentum * xvar\n",
    "    return self.out\n",
    "  \n",
    "  def parameters(self):\n",
    "    return [self.gamma, self.beta]\n",
    "\n",
    "# -----------------------------------------------------------------------------------------------\n",
    "class Tanh:\n",
    "  def __call__(self, x):\n",
    "    self.out = torch.tanh(x)\n",
    "    return self.out\n",
    "  def parameters(self):\n",
    "    return []\n",
    "  \n",
    "# -----------------------------------------------------------------------------------------------\n",
    "class Embedding:\n",
    "\n",
    "  def __init__(self, num_embeddings, embedding_dim):\n",
    "    self.weight = torch.randn((num_embeddings, embedding_dim))\n",
    "    # self.out = None\n",
    "\n",
    "  def __call__(self, ix):\n",
    "    self.out = self.weight[ix]\n",
    "    return self.out\n",
    "  \n",
    "  def parameters(self):\n",
    "    return [self.weight]\n",
    "  \n",
    "# -----------------------------------------------------------------------------------------------\n",
    "class FlattenConsecutive:\n",
    "  \"\"\" flattent the first last two dimensions of the tensor based on n\"\"\"\n",
    "  def __init__(self, n):\n",
    "    self.n = n\n",
    "\n",
    "  def __call__(self, x): # x --> embedding\n",
    "    B, T, C = x.shape\n",
    "    x = x.view(B, T // self.n, C * self.n) # flatten the last two dimensions\n",
    "    if T//self.n == 1:\n",
    "      x = x.squeeze(1)\n",
    "    # self.out = x.view(x.shape[0], -1)\n",
    "    self.out = x\n",
    "    return self.out\n",
    "  \n",
    "  def parameters(self):\n",
    "    return []\n",
    "  \n",
    "# -----------------------------------------------------------------------------------------------\n",
    "class Sequential:\n",
    "  def __init__(self, layers):\n",
    "    self.layers = layers\n",
    "\n",
    "  def __call__(self, x):\n",
    "    for layer in self.layers:\n",
    "      x = layer(x)\n",
    "    self.out = x\n",
    "    return self.out\n",
    "  \n",
    "  def parameters(self):\n",
    "    return [p for layer in self.layers for p in layer.parameters()]\n",
    "  "
   ]
  },
  {
   "cell_type": "code",
   "execution_count": 18,
   "id": "325e155e",
   "metadata": {},
   "outputs": [],
   "source": [
    "torch.manual_seed(42); # seed rng for reproducibility"
   ]
  },
  {
   "cell_type": "code",
   "execution_count": 91,
   "id": "7b7bae9e",
   "metadata": {},
   "outputs": [
    {
     "name": "stdout",
     "output_type": "stream",
     "text": [
      "22397\n"
     ]
    }
   ],
   "source": [
    "# original network\n",
    "n_embd = 10 # the dimensionality of the character embedding vectors\n",
    "n_hidden = 68 # the number of neurons in the hidden layer of the MLP\n",
    "\n",
    "\n",
    "# C = torch.randn((vocab_size, n_embd))\n",
    "model = Sequential([\n",
    "  Embedding(vocab_size, n_embd), # embedding layer\n",
    "  FlattenConsecutive(2), Linear(n_embd * 2, n_hidden, bias=False), BatchNorm1d(n_hidden), Tanh(),\n",
    "  FlattenConsecutive(2), Linear(n_hidden * 2, n_hidden, bias=False), BatchNorm1d(n_hidden), Tanh(),\n",
    "  FlattenConsecutive(2), Linear(n_hidden * 2, n_hidden, bias=False), BatchNorm1d(n_hidden), Tanh(),\n",
    "  Linear(n_hidden, vocab_size),\n",
    "])\n",
    "\n",
    "# parameter init\n",
    "with torch.no_grad():\n",
    "  model.layers[-1].weight *= 0.1 # last layer make less confident\n",
    "\n",
    "parameters = model.parameters()\n",
    "print(sum(p.nelement() for p in parameters)) # number of parameters in total\n",
    "for p in parameters:\n",
    "  p.requires_grad = True"
   ]
  },
  {
   "cell_type": "code",
   "execution_count": 92,
   "id": "703e73df",
   "metadata": {},
   "outputs": [
    {
     "ename": "AttributeError",
     "evalue": "'Embedding' object has no attribute 'out'",
     "output_type": "error",
     "traceback": [
      "\u001b[0;31m---------------------------------------------------------------------------\u001b[0m",
      "\u001b[0;31mAttributeError\u001b[0m                            Traceback (most recent call last)",
      "Cell \u001b[0;32mIn[92], line 2\u001b[0m\n\u001b[1;32m      1\u001b[0m \u001b[38;5;28;01mfor\u001b[39;00m layer \u001b[38;5;129;01min\u001b[39;00m model\u001b[38;5;241m.\u001b[39mlayers:\n\u001b[0;32m----> 2\u001b[0m     \u001b[38;5;28mprint\u001b[39m(layer\u001b[38;5;241m.\u001b[39m\u001b[38;5;18m__class__\u001b[39m\u001b[38;5;241m.\u001b[39m\u001b[38;5;18m__name__\u001b[39m, \u001b[38;5;124m\"\u001b[39m\u001b[38;5;124m : \u001b[39m\u001b[38;5;124m\"\u001b[39m, \u001b[43mlayer\u001b[49m\u001b[38;5;241;43m.\u001b[39;49m\u001b[43mout\u001b[49m\u001b[38;5;241m.\u001b[39mshape)\n",
      "\u001b[0;31mAttributeError\u001b[0m: 'Embedding' object has no attribute 'out'"
     ]
    }
   ],
   "source": [
    "for layer in model.layers:\n",
    "    print(layer.__class__.__name__, \" : \", layer.out.shape)"
   ]
  },
  {
   "cell_type": "code",
   "execution_count": 93,
   "id": "e61796fa",
   "metadata": {},
   "outputs": [
    {
     "data": {
      "text/plain": [
       "(torch.Size([6, 4, 8]), torch.Size([1, 1, 8]), torch.Size([1, 1, 8]))"
      ]
     },
     "execution_count": 93,
     "metadata": {},
     "output_type": "execute_result"
    }
   ],
   "source": [
    "e = torch.randn((6, 4, 8))\n",
    "emean = e.mean(dim=(0,1), keepdim=True) # 1 4 68\n",
    "evar = e.var(dim=(0,1), keepdim=True) # 1 4 68\n",
    "e.shape, emean.shape, evar.shape"
   ]
  },
  {
   "cell_type": "code",
   "execution_count": 94,
   "id": "08fc7f73",
   "metadata": {},
   "outputs": [
    {
     "data": {
      "text/plain": [
       "tensor([[[1.1902, 0.7937, 0.7010, 0.9162, 0.7899, 1.0799, 0.9394, 0.8833]]])"
      ]
     },
     "execution_count": 94,
     "metadata": {},
     "output_type": "execute_result"
    }
   ],
   "source": [
    "evar"
   ]
  },
  {
   "cell_type": "code",
   "execution_count": 89,
   "id": "690bd4fe",
   "metadata": {},
   "outputs": [
    {
     "data": {
      "text/plain": [
       "tensor([[[1.1649, 1.3560, 1.0942, 1.1587, 0.8850, 0.6581, 0.5946, 0.8697],\n",
       "         [1.1649, 1.3560, 1.0942, 1.1587, 0.8850, 0.6581, 0.5946, 0.8697],\n",
       "         [1.1649, 1.3560, 1.0942, 1.1587, 0.8850, 0.6581, 0.5946, 0.8697],\n",
       "         [1.1649, 1.3560, 1.0942, 1.1587, 0.8850, 0.6581, 0.5946, 0.8697]],\n",
       "\n",
       "        [[1.1649, 1.3560, 1.0942, 1.1587, 0.8850, 0.6581, 0.5946, 0.8697],\n",
       "         [1.1649, 1.3560, 1.0942, 1.1587, 0.8850, 0.6581, 0.5946, 0.8697],\n",
       "         [1.1649, 1.3560, 1.0942, 1.1587, 0.8850, 0.6581, 0.5946, 0.8697],\n",
       "         [1.1649, 1.3560, 1.0942, 1.1587, 0.8850, 0.6581, 0.5946, 0.8697]],\n",
       "\n",
       "        [[1.1649, 1.3560, 1.0942, 1.1587, 0.8850, 0.6581, 0.5946, 0.8697],\n",
       "         [1.1649, 1.3560, 1.0942, 1.1587, 0.8850, 0.6581, 0.5946, 0.8697],\n",
       "         [1.1649, 1.3560, 1.0942, 1.1587, 0.8850, 0.6581, 0.5946, 0.8697],\n",
       "         [1.1649, 1.3560, 1.0942, 1.1587, 0.8850, 0.6581, 0.5946, 0.8697]],\n",
       "\n",
       "        [[1.1649, 1.3560, 1.0942, 1.1587, 0.8850, 0.6581, 0.5946, 0.8697],\n",
       "         [1.1649, 1.3560, 1.0942, 1.1587, 0.8850, 0.6581, 0.5946, 0.8697],\n",
       "         [1.1649, 1.3560, 1.0942, 1.1587, 0.8850, 0.6581, 0.5946, 0.8697],\n",
       "         [1.1649, 1.3560, 1.0942, 1.1587, 0.8850, 0.6581, 0.5946, 0.8697]],\n",
       "\n",
       "        [[1.1649, 1.3560, 1.0942, 1.1587, 0.8850, 0.6581, 0.5946, 0.8697],\n",
       "         [1.1649, 1.3560, 1.0942, 1.1587, 0.8850, 0.6581, 0.5946, 0.8697],\n",
       "         [1.1649, 1.3560, 1.0942, 1.1587, 0.8850, 0.6581, 0.5946, 0.8697],\n",
       "         [1.1649, 1.3560, 1.0942, 1.1587, 0.8850, 0.6581, 0.5946, 0.8697]],\n",
       "\n",
       "        [[1.1649, 1.3560, 1.0942, 1.1587, 0.8850, 0.6581, 0.5946, 0.8697],\n",
       "         [1.1649, 1.3560, 1.0942, 1.1587, 0.8850, 0.6581, 0.5946, 0.8697],\n",
       "         [1.1649, 1.3560, 1.0942, 1.1587, 0.8850, 0.6581, 0.5946, 0.8697],\n",
       "         [1.1649, 1.3560, 1.0942, 1.1587, 0.8850, 0.6581, 0.5946, 0.8697]]])"
      ]
     },
     "execution_count": 89,
     "metadata": {},
     "output_type": "execute_result"
    }
   ],
   "source": [
    "evar.expand_as(e)"
   ]
  },
  {
   "cell_type": "code",
   "execution_count": 85,
   "id": "420dd66a",
   "metadata": {},
   "outputs": [
    {
     "data": {
      "text/plain": [
       "tensor([[[0.5444, 0.2350, 0.4203, 0.5053, 0.5229, 1.3925, 0.6035, 0.7143],\n",
       "         [2.0950, 1.6852, 1.3073, 0.7835, 0.4271, 0.6987, 0.6306, 0.2070],\n",
       "         [1.2756, 0.6290, 1.6143, 0.4955, 1.0909, 0.8944, 1.3435, 1.6009],\n",
       "         [0.2798, 2.2519, 1.1828, 1.8791, 0.3517, 0.5675, 0.9625, 1.2213]]])"
      ]
     },
     "execution_count": 85,
     "metadata": {},
     "output_type": "execute_result"
    }
   ],
   "source": [
    "evar"
   ]
  },
  {
   "cell_type": "code",
   "execution_count": 86,
   "id": "cd489423",
   "metadata": {},
   "outputs": [
    {
     "data": {
      "text/plain": [
       "tensor([[[0.5444, 0.2350, 0.4203, 0.5053, 0.5229, 1.3925, 0.6035, 0.7143],\n",
       "         [2.0950, 1.6852, 1.3073, 0.7835, 0.4271, 0.6987, 0.6306, 0.2070],\n",
       "         [1.2756, 0.6290, 1.6143, 0.4955, 1.0909, 0.8944, 1.3435, 1.6009],\n",
       "         [0.2798, 2.2519, 1.1828, 1.8791, 0.3517, 0.5675, 0.9625, 1.2213]],\n",
       "\n",
       "        [[0.5444, 0.2350, 0.4203, 0.5053, 0.5229, 1.3925, 0.6035, 0.7143],\n",
       "         [2.0950, 1.6852, 1.3073, 0.7835, 0.4271, 0.6987, 0.6306, 0.2070],\n",
       "         [1.2756, 0.6290, 1.6143, 0.4955, 1.0909, 0.8944, 1.3435, 1.6009],\n",
       "         [0.2798, 2.2519, 1.1828, 1.8791, 0.3517, 0.5675, 0.9625, 1.2213]],\n",
       "\n",
       "        [[0.5444, 0.2350, 0.4203, 0.5053, 0.5229, 1.3925, 0.6035, 0.7143],\n",
       "         [2.0950, 1.6852, 1.3073, 0.7835, 0.4271, 0.6987, 0.6306, 0.2070],\n",
       "         [1.2756, 0.6290, 1.6143, 0.4955, 1.0909, 0.8944, 1.3435, 1.6009],\n",
       "         [0.2798, 2.2519, 1.1828, 1.8791, 0.3517, 0.5675, 0.9625, 1.2213]],\n",
       "\n",
       "        [[0.5444, 0.2350, 0.4203, 0.5053, 0.5229, 1.3925, 0.6035, 0.7143],\n",
       "         [2.0950, 1.6852, 1.3073, 0.7835, 0.4271, 0.6987, 0.6306, 0.2070],\n",
       "         [1.2756, 0.6290, 1.6143, 0.4955, 1.0909, 0.8944, 1.3435, 1.6009],\n",
       "         [0.2798, 2.2519, 1.1828, 1.8791, 0.3517, 0.5675, 0.9625, 1.2213]],\n",
       "\n",
       "        [[0.5444, 0.2350, 0.4203, 0.5053, 0.5229, 1.3925, 0.6035, 0.7143],\n",
       "         [2.0950, 1.6852, 1.3073, 0.7835, 0.4271, 0.6987, 0.6306, 0.2070],\n",
       "         [1.2756, 0.6290, 1.6143, 0.4955, 1.0909, 0.8944, 1.3435, 1.6009],\n",
       "         [0.2798, 2.2519, 1.1828, 1.8791, 0.3517, 0.5675, 0.9625, 1.2213]],\n",
       "\n",
       "        [[0.5444, 0.2350, 0.4203, 0.5053, 0.5229, 1.3925, 0.6035, 0.7143],\n",
       "         [2.0950, 1.6852, 1.3073, 0.7835, 0.4271, 0.6987, 0.6306, 0.2070],\n",
       "         [1.2756, 0.6290, 1.6143, 0.4955, 1.0909, 0.8944, 1.3435, 1.6009],\n",
       "         [0.2798, 2.2519, 1.1828, 1.8791, 0.3517, 0.5675, 0.9625, 1.2213]]])"
      ]
     },
     "execution_count": 86,
     "metadata": {},
     "output_type": "execute_result"
    }
   ],
   "source": [
    "evar.expand_as(e)"
   ]
  },
  {
   "cell_type": "code",
   "execution_count": 67,
   "id": "b53023bf",
   "metadata": {},
   "outputs": [
    {
     "data": {
      "text/plain": [
       "torch.Size([4, 8])"
      ]
     },
     "execution_count": 67,
     "metadata": {},
     "output_type": "execute_result"
    }
   ],
   "source": [
    "bn = e - emean / ((evar))\n",
    "bn.shape"
   ]
  },
  {
   "cell_type": "code",
   "execution_count": 69,
   "id": "f8e7ecdc",
   "metadata": {},
   "outputs": [
    {
     "data": {
      "text/plain": [
       "tensor([[True, True, True, True, True, True, True, True],\n",
       "        [True, True, True, True, True, True, True, True],\n",
       "        [True, True, True, True, True, True, True, True],\n",
       "        [True, True, True, True, True, True, True, True]])"
      ]
     },
     "execution_count": 69,
     "metadata": {},
     "output_type": "execute_result"
    }
   ],
   "source": [
    "e - emean == e- emean.expand_as(e)"
   ]
  },
  {
   "cell_type": "code",
   "execution_count": 96,
   "id": "9a2b9e85",
   "metadata": {},
   "outputs": [
    {
     "name": "stdout",
     "output_type": "stream",
     "text": [
      "      0/ 200000: 2.0330\n"
     ]
    }
   ],
   "source": [
    "# same optimization as last time\n",
    "max_steps = 200000\n",
    "batch_size = 32\n",
    "lossi = []\n",
    "\n",
    "for i in range(max_steps):\n",
    "\n",
    "    # Mini batches\n",
    "    ix = torch.randint(0, Xtr.shape[0], (batch_size,)) # random batch of indices\n",
    "    Xb, Yb = Xtr[ix], Ytr[ix]\n",
    "\n",
    "    # forward pass\n",
    "    logits = model(Xb) # logits\n",
    "    # for layer in layers:\n",
    "    #     x = layer(x)\n",
    "    loss = F.cross_entropy(logits, Yb) # cross-entropy loss\n",
    "\n",
    "    # backward pass\n",
    "    for p in parameters:\n",
    "        p.grad = None\n",
    "    loss.backward()\n",
    "\n",
    "    # update\n",
    "    lr = 0.1 if i < 100000 else 0.01 # step learning rate decay\n",
    "    for p in parameters:\n",
    "        p.data += -lr * p.grad\n",
    "\n",
    "    # track stats\n",
    "    if i % 10000 == 0: # print every once in a while\n",
    "        print(f'{i:7d}/{max_steps:7d}: {loss.item():.4f}')\n",
    "    lossi.append(loss.log10().item())\n",
    "    break "
   ]
  },
  {
   "cell_type": "code",
   "execution_count": 37,
   "id": "695a9f74",
   "metadata": {},
   "outputs": [
    {
     "data": {
      "text/plain": [
       "[<matplotlib.lines.Line2D at 0x16528ba60>]"
      ]
     },
     "execution_count": 37,
     "metadata": {},
     "output_type": "execute_result"
    },
    {
     "data": {
      "image/png": "[encoded data removed]",
      "text/plain": [
       "<Figure size 640x480 with 1 Axes>"
      ]
     },
     "metadata": {},
     "output_type": "display_data"
    }
   ],
   "source": [
    "#using view we can make it 2d \n",
    "plt.plot(torch.tensor(lossi).view(-1, 1000).mean(1))"
   ]
  },
  {
   "cell_type": "code",
   "execution_count": 38,
   "id": "577bfff6",
   "metadata": {},
   "outputs": [],
   "source": [
    "for layer in model.layers:\n",
    "    layer.training = False # turn off training mode because batchnorm is in training mode"
   ]
  },
  {
   "cell_type": "code",
   "execution_count": 39,
   "id": "4f956d95",
   "metadata": {},
   "outputs": [
    {
     "name": "stdout",
     "output_type": "stream",
     "text": [
      "train 1.9229532480239868\n",
      "val 2.0222384929656982\n"
     ]
    }
   ],
   "source": [
    "# evaluate the loss\n",
    "@torch.no_grad() # this decorator disables gradient tracking inside pytorch\n",
    "def split_loss(split):\n",
    "  x,y = {\n",
    "    'train': (Xtr, Ytr),\n",
    "    'val': (Xdev, Ydev),\n",
    "    'test': (Xte, Yte),\n",
    "  }[split]\n",
    "  logits = model(x)\n",
    "  loss = F.cross_entropy(logits, y)\n",
    "  print(split, loss.item())\n",
    "\n",
    "split_loss('train')\n",
    "split_loss('val')"
   ]
  },
  {
   "cell_type": "code",
   "execution_count": 40,
   "id": "f465341b",
   "metadata": {},
   "outputs": [
    {
     "name": "stdout",
     "output_type": "stream",
     "text": [
      "leleza.\n",
      "leon.\n",
      "luisara.\n",
      "jabely.\n",
      "jurhia.\n",
      "cambree.\n",
      "rirah.\n",
      "allery.\n",
      "mehce.\n",
      "naset.\n",
      "eliyah.\n",
      "brodiow.\n",
      "ayani.\n",
      "kartheli.\n",
      "treviyah.\n",
      "failan.\n",
      "zhole.\n",
      "darelynn.\n",
      "eamari.\n",
      "kallie.\n"
     ]
    }
   ],
   "source": [
    "for _ in range(20):\n",
    "\n",
    "    op = []\n",
    "    context = [0] * block_size\n",
    "    while True:\n",
    "        \n",
    "        logits =  model(torch.tensor([context]))\n",
    "        probs = F.softmax(logits, dim=1)\n",
    "\n",
    "        ix = torch.multinomial(probs, num_samples=1).item()\n",
    "\n",
    "        context = context[1:] + [ix] \n",
    "        op.append(ix)\n",
    "        if ix == 0:\n",
    "            break\n",
    "    \n",
    "    print(\"\".join(itos[i] for i in op))"
   ]
  },
  {
   "cell_type": "code",
   "execution_count": null,
   "id": "5f42b632",
   "metadata": {},
   "outputs": [],
   "source": []
  }
 ],
 "metadata": {
  "kernelspec": {
   "display_name": "LLM",
   "language": "python",
   "name": "python3"
  },
  "language_info": {
   "codemirror_mode": {
    "name": "ipython",
    "version": 3
   },
   "file_extension": ".py",
   "mimetype": "text/x-python",
   "name": "python",
   "nbconvert_exporter": "python",
   "pygments_lexer": "ipython3",
   "version": "3.10.16"
  }
 },
 "nbformat": 4,
 "nbformat_minor": 5
}
